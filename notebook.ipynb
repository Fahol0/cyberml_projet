{
 "cells": [
  {
   "cell_type": "markdown",
   "metadata": {},
   "source": [
    "# CYBERML - Project"
   ]
  },
  {
   "cell_type": "markdown",
   "metadata": {},
   "source": [
    "#### Importation du dataset"
   ]
  },
  {
   "cell_type": "code",
   "execution_count": 2,
   "metadata": {},
   "outputs": [],
   "source": [
    "import pandas as pd\n",
    "from sklearn.preprocessing import StandardScaler\n",
    "from sklearn.ensemble import IsolationForest\n",
    "from sklearn.metrics import confusion_matrix, classification_report\n",
    "from sklearn.model_selection import train_test_split\n",
    "from sklearn.ensemble import RandomForestClassifier\n",
    "import matplotlib.pyplot as plt\n",
    "from sklearn.decomposition import PCA\n",
    "import seaborn as sns"
   ]
  },
  {
   "cell_type": "code",
   "execution_count": null,
   "metadata": {},
   "outputs": [],
   "source": [
    "# file1_path = \"../SWaT.A7_June 2020/22June2020 (1).xlsx\"\n",
    "# file2_path = \"../SWaT.A7_June 2020/22June2020 (2).xlsx\"\n",
    "\n",
    "# df1 = pd.read_excel(file1_path)\n",
    "# df2 = pd.read_excel(file2_path)"
   ]
  },
  {
   "cell_type": "code",
   "execution_count": null,
   "metadata": {},
   "outputs": [
    {
     "name": "stdout",
     "output_type": "stream",
     "text": [
      "Les colonnes des deux fichiers correspondent.\n",
      "Dataset combiné : (18000, 82) lignes et colonnes\n",
      "Dataset fusionné sauvegardé dans : ../SWaT.A7_June 2020/22June2020_combined.csv\n"
     ]
    }
   ],
   "source": [
    "# if list(df1.columns) != list(df2.columns):\n",
    "#     print(\"Les colonnes des deux fichiers ne correspondent pas.\")\n",
    "#     print(\"Colonnes dans le fichier 1 :\", df1.columns)\n",
    "#     print(\"Colonnes dans le fichier 2 :\", df2.columns)\n",
    "# else:\n",
    "#     print(\"Les colonnes des deux fichiers correspondent.\")\n",
    "#     df_combined = pd.concat([df1, df2], axis=0, ignore_index=True)\n",
    "\n",
    "#     # Vérifier le nombre de lignes et de colonnes du dataset combiné\n",
    "#     print(f\"Dataset combiné : {df_combined.shape} lignes et colonnes\")\n",
    "\n",
    "#     # Sauvegarder le dataset combiné dans un fichier CSV\n",
    "#     output_path = \"../SWaT.A7_June 2020/22June2020_combined.csv\"\n",
    "#     df_combined.to_csv(output_path, index=False)\n",
    "\n",
    "#     print(f\"Dataset fusionné sauvegardé dans : {output_path}\")"
   ]
  },
  {
   "cell_type": "code",
   "execution_count": 9,
   "metadata": {},
   "outputs": [],
   "source": [
    "df = pd.read_csv(\"../SWaT.A7_June 2020/22June2020_combined.csv\")"
   ]
  },
  {
   "cell_type": "code",
   "execution_count": 10,
   "metadata": {},
   "outputs": [
    {
     "data": {
      "text/html": [
       "<div>\n",
       "<style scoped>\n",
       "    .dataframe tbody tr th:only-of-type {\n",
       "        vertical-align: middle;\n",
       "    }\n",
       "\n",
       "    .dataframe tbody tr th {\n",
       "        vertical-align: top;\n",
       "    }\n",
       "\n",
       "    .dataframe thead th {\n",
       "        text-align: right;\n",
       "    }\n",
       "</style>\n",
       "<table border=\"1\" class=\"dataframe\">\n",
       "  <thead>\n",
       "    <tr style=\"text-align: right;\">\n",
       "      <th></th>\n",
       "      <th>t_stamp</th>\n",
       "      <th>P1_STATE</th>\n",
       "      <th>LIT101.Pv</th>\n",
       "      <th>FIT101.Pv</th>\n",
       "      <th>MV101.Status</th>\n",
       "      <th>P101.Status</th>\n",
       "      <th>P102.Status</th>\n",
       "      <th>P2_STATE</th>\n",
       "      <th>FIT201.Pv</th>\n",
       "      <th>AIT201.Pv</th>\n",
       "      <th>...</th>\n",
       "      <th>FIT601.Pv</th>\n",
       "      <th>P601.Status</th>\n",
       "      <th>P602.Status</th>\n",
       "      <th>P603.Status</th>\n",
       "      <th>LSH601.Alarm</th>\n",
       "      <th>LSL601.Alarm</th>\n",
       "      <th>LSH602.Alarm</th>\n",
       "      <th>LSL602.Alarm</th>\n",
       "      <th>LSH603.Alarm</th>\n",
       "      <th>LSL603.Alarm</th>\n",
       "    </tr>\n",
       "  </thead>\n",
       "  <tbody>\n",
       "    <tr>\n",
       "      <th>0</th>\n",
       "      <td>2020-06-22 10:00:00.000</td>\n",
       "      <td>3</td>\n",
       "      <td>695.284100</td>\n",
       "      <td>0.0</td>\n",
       "      <td>1</td>\n",
       "      <td>1</td>\n",
       "      <td>1</td>\n",
       "      <td>2</td>\n",
       "      <td>0.000256</td>\n",
       "      <td>18.072288</td>\n",
       "      <td>...</td>\n",
       "      <td>0.000256</td>\n",
       "      <td>1</td>\n",
       "      <td>1</td>\n",
       "      <td>1</td>\n",
       "      <td>Inactive</td>\n",
       "      <td>Inactive</td>\n",
       "      <td>Active</td>\n",
       "      <td>Inactive</td>\n",
       "      <td>Inactive</td>\n",
       "      <td>Active</td>\n",
       "    </tr>\n",
       "    <tr>\n",
       "      <th>1</th>\n",
       "      <td>2020-06-22 10:00:01.000</td>\n",
       "      <td>3</td>\n",
       "      <td>695.127100</td>\n",
       "      <td>0.0</td>\n",
       "      <td>1</td>\n",
       "      <td>1</td>\n",
       "      <td>1</td>\n",
       "      <td>2</td>\n",
       "      <td>0.000256</td>\n",
       "      <td>18.104332</td>\n",
       "      <td>...</td>\n",
       "      <td>0.000256</td>\n",
       "      <td>1</td>\n",
       "      <td>1</td>\n",
       "      <td>1</td>\n",
       "      <td>Inactive</td>\n",
       "      <td>Inactive</td>\n",
       "      <td>Active</td>\n",
       "      <td>Inactive</td>\n",
       "      <td>Inactive</td>\n",
       "      <td>Active</td>\n",
       "    </tr>\n",
       "    <tr>\n",
       "      <th>2</th>\n",
       "      <td>2020-06-22 10:00:02.005</td>\n",
       "      <td>3</td>\n",
       "      <td>694.930847</td>\n",
       "      <td>0.0</td>\n",
       "      <td>1</td>\n",
       "      <td>1</td>\n",
       "      <td>1</td>\n",
       "      <td>2</td>\n",
       "      <td>0.000256</td>\n",
       "      <td>18.104332</td>\n",
       "      <td>...</td>\n",
       "      <td>0.000256</td>\n",
       "      <td>1</td>\n",
       "      <td>1</td>\n",
       "      <td>1</td>\n",
       "      <td>Inactive</td>\n",
       "      <td>Inactive</td>\n",
       "      <td>Active</td>\n",
       "      <td>Inactive</td>\n",
       "      <td>Inactive</td>\n",
       "      <td>Active</td>\n",
       "    </tr>\n",
       "    <tr>\n",
       "      <th>3</th>\n",
       "      <td>2020-06-22 10:00:03.010</td>\n",
       "      <td>3</td>\n",
       "      <td>694.930847</td>\n",
       "      <td>0.0</td>\n",
       "      <td>1</td>\n",
       "      <td>1</td>\n",
       "      <td>1</td>\n",
       "      <td>2</td>\n",
       "      <td>0.000256</td>\n",
       "      <td>18.104332</td>\n",
       "      <td>...</td>\n",
       "      <td>0.000256</td>\n",
       "      <td>1</td>\n",
       "      <td>1</td>\n",
       "      <td>1</td>\n",
       "      <td>Inactive</td>\n",
       "      <td>Inactive</td>\n",
       "      <td>Active</td>\n",
       "      <td>Inactive</td>\n",
       "      <td>Inactive</td>\n",
       "      <td>Active</td>\n",
       "    </tr>\n",
       "    <tr>\n",
       "      <th>4</th>\n",
       "      <td>2020-06-22 10:00:04.015</td>\n",
       "      <td>3</td>\n",
       "      <td>694.852300</td>\n",
       "      <td>0.0</td>\n",
       "      <td>1</td>\n",
       "      <td>1</td>\n",
       "      <td>1</td>\n",
       "      <td>2</td>\n",
       "      <td>0.000256</td>\n",
       "      <td>18.104332</td>\n",
       "      <td>...</td>\n",
       "      <td>0.000256</td>\n",
       "      <td>1</td>\n",
       "      <td>1</td>\n",
       "      <td>1</td>\n",
       "      <td>Inactive</td>\n",
       "      <td>Inactive</td>\n",
       "      <td>Active</td>\n",
       "      <td>Inactive</td>\n",
       "      <td>Inactive</td>\n",
       "      <td>Active</td>\n",
       "    </tr>\n",
       "  </tbody>\n",
       "</table>\n",
       "<p>5 rows × 82 columns</p>\n",
       "</div>"
      ],
      "text/plain": [
       "                   t_stamp  P1_STATE   LIT101.Pv  FIT101.Pv  MV101.Status  \\\n",
       "0  2020-06-22 10:00:00.000         3  695.284100        0.0             1   \n",
       "1  2020-06-22 10:00:01.000         3  695.127100        0.0             1   \n",
       "2  2020-06-22 10:00:02.005         3  694.930847        0.0             1   \n",
       "3  2020-06-22 10:00:03.010         3  694.930847        0.0             1   \n",
       "4  2020-06-22 10:00:04.015         3  694.852300        0.0             1   \n",
       "\n",
       "   P101.Status  P102.Status  P2_STATE  FIT201.Pv  AIT201.Pv  ...  FIT601.Pv  \\\n",
       "0            1            1         2   0.000256  18.072288  ...   0.000256   \n",
       "1            1            1         2   0.000256  18.104332  ...   0.000256   \n",
       "2            1            1         2   0.000256  18.104332  ...   0.000256   \n",
       "3            1            1         2   0.000256  18.104332  ...   0.000256   \n",
       "4            1            1         2   0.000256  18.104332  ...   0.000256   \n",
       "\n",
       "   P601.Status  P602.Status  P603.Status  LSH601.Alarm  LSL601.Alarm  \\\n",
       "0            1            1            1      Inactive      Inactive   \n",
       "1            1            1            1      Inactive      Inactive   \n",
       "2            1            1            1      Inactive      Inactive   \n",
       "3            1            1            1      Inactive      Inactive   \n",
       "4            1            1            1      Inactive      Inactive   \n",
       "\n",
       "   LSH602.Alarm  LSL602.Alarm  LSH603.Alarm  LSL603.Alarm  \n",
       "0        Active      Inactive      Inactive        Active  \n",
       "1        Active      Inactive      Inactive        Active  \n",
       "2        Active      Inactive      Inactive        Active  \n",
       "3        Active      Inactive      Inactive        Active  \n",
       "4        Active      Inactive      Inactive        Active  \n",
       "\n",
       "[5 rows x 82 columns]"
      ]
     },
     "execution_count": 10,
     "metadata": {},
     "output_type": "execute_result"
    }
   ],
   "source": [
    "df.head()"
   ]
  },
  {
   "cell_type": "code",
   "execution_count": 11,
   "metadata": {},
   "outputs": [
    {
     "name": "stdout",
     "output_type": "stream",
     "text": [
      "<class 'pandas.core.frame.DataFrame'>\n",
      "RangeIndex: 18000 entries, 0 to 17999\n",
      "Data columns (total 82 columns):\n",
      " #   Column         Non-Null Count  Dtype  \n",
      "---  ------         --------------  -----  \n",
      " 0   t_stamp        18000 non-null  object \n",
      " 1   P1_STATE       18000 non-null  int64  \n",
      " 2   LIT101.Pv      18000 non-null  float64\n",
      " 3   FIT101.Pv      18000 non-null  float64\n",
      " 4   MV101.Status   18000 non-null  int64  \n",
      " 5   P101.Status    18000 non-null  int64  \n",
      " 6   P102.Status    18000 non-null  int64  \n",
      " 7   P2_STATE       18000 non-null  int64  \n",
      " 8   FIT201.Pv      18000 non-null  float64\n",
      " 9   AIT201.Pv      18000 non-null  float64\n",
      " 10  AIT202.Pv      18000 non-null  float64\n",
      " 11  AIT203.Pv      18000 non-null  float64\n",
      " 12  MV201.Status   18000 non-null  int64  \n",
      " 13  P201.Status    18000 non-null  int64  \n",
      " 14  P202.Status    18000 non-null  int64  \n",
      " 15  P203.Status    18000 non-null  int64  \n",
      " 16  P204.Status    18000 non-null  int64  \n",
      " 17  P205.Status    18000 non-null  int64  \n",
      " 18  P206.Status    18000 non-null  int64  \n",
      " 19  P207.Status    18000 non-null  int64  \n",
      " 20  P208.Status    18000 non-null  int64  \n",
      " 21  LS201.Alarm    18000 non-null  object \n",
      " 22  LS202.Alarm    18000 non-null  object \n",
      " 23  LSL203.Alarm   18000 non-null  object \n",
      " 24  LSLL203.Alarm  18000 non-null  object \n",
      " 25  P3_STATE       18000 non-null  int64  \n",
      " 26  AIT301.Pv      18000 non-null  float64\n",
      " 27  AIT302.Pv      18000 non-null  float64\n",
      " 28  AIT303.Pv      18000 non-null  float64\n",
      " 29  LIT301.Pv      18000 non-null  float64\n",
      " 30  FIT301.Pv      18000 non-null  float64\n",
      " 31  DPIT301.Pv     18000 non-null  float64\n",
      " 32  MV301.Status   18000 non-null  int64  \n",
      " 33  MV302.Status   18000 non-null  int64  \n",
      " 34  MV303.Status   18000 non-null  int64  \n",
      " 35  MV304.Status   18000 non-null  int64  \n",
      " 36  P301.Status    18000 non-null  int64  \n",
      " 37  P302.Status    18000 non-null  int64  \n",
      " 38  PSH301.Alarm   18000 non-null  object \n",
      " 39  DPSH301.Alarm  18000 non-null  object \n",
      " 40  P4_STATE       18000 non-null  int64  \n",
      " 41  LIT401.Pv      18000 non-null  float64\n",
      " 42  FIT401.Pv      18000 non-null  float64\n",
      " 43  AIT401.Pv      18000 non-null  int64  \n",
      " 44  AIT402.Pv      18000 non-null  int64  \n",
      " 45  P401.Status    18000 non-null  int64  \n",
      " 46  P402.Status    18000 non-null  int64  \n",
      " 47  P403.Status    18000 non-null  int64  \n",
      " 48  P404.Status    18000 non-null  int64  \n",
      " 49  UV401.Status   18000 non-null  int64  \n",
      " 50  LS401.Alarm    18000 non-null  object \n",
      " 51  P5_STATE       18000 non-null  int64  \n",
      " 52  FIT501.Pv      18000 non-null  float64\n",
      " 53  FIT502.Pv      18000 non-null  float64\n",
      " 54  FIT503.Pv      18000 non-null  float64\n",
      " 55  FIT504.Pv      18000 non-null  int64  \n",
      " 56  AIT501.Pv      18000 non-null  float64\n",
      " 57  AIT502.Pv      18000 non-null  float64\n",
      " 58  AIT503.Pv      18000 non-null  float64\n",
      " 59  AIT504.Pv      18000 non-null  float64\n",
      " 60  PIT501.Pv      18000 non-null  float64\n",
      " 61  PIT502.Pv      18000 non-null  float64\n",
      " 62  PIT503.Pv      18000 non-null  float64\n",
      " 63  P501.Status    18000 non-null  int64  \n",
      " 64  P502.Status    18000 non-null  int64  \n",
      " 65  MV501.Status   18000 non-null  int64  \n",
      " 66  MV502.Status   18000 non-null  int64  \n",
      " 67  MV503.Status   18000 non-null  int64  \n",
      " 68  MV504.Status   18000 non-null  int64  \n",
      " 69  PSH501.Alarm   18000 non-null  object \n",
      " 70  PSL501.Alarm   18000 non-null  object \n",
      " 71  P6_STATE       18000 non-null  int64  \n",
      " 72  FIT601.Pv      18000 non-null  float64\n",
      " 73  P601.Status    18000 non-null  int64  \n",
      " 74  P602.Status    18000 non-null  int64  \n",
      " 75  P603.Status    18000 non-null  int64  \n",
      " 76  LSH601.Alarm   18000 non-null  object \n",
      " 77  LSL601.Alarm   18000 non-null  object \n",
      " 78  LSH602.Alarm   18000 non-null  object \n",
      " 79  LSL602.Alarm   18000 non-null  object \n",
      " 80  LSH603.Alarm   18000 non-null  object \n",
      " 81  LSL603.Alarm   18000 non-null  object \n",
      "dtypes: float64(25), int64(41), object(16)\n",
      "memory usage: 11.3+ MB\n"
     ]
    }
   ],
   "source": [
    "df.info()"
   ]
  },
  {
   "cell_type": "code",
   "execution_count": 12,
   "metadata": {},
   "outputs": [
    {
     "data": {
      "text/html": [
       "<div>\n",
       "<style scoped>\n",
       "    .dataframe tbody tr th:only-of-type {\n",
       "        vertical-align: middle;\n",
       "    }\n",
       "\n",
       "    .dataframe tbody tr th {\n",
       "        vertical-align: top;\n",
       "    }\n",
       "\n",
       "    .dataframe thead th {\n",
       "        text-align: right;\n",
       "    }\n",
       "</style>\n",
       "<table border=\"1\" class=\"dataframe\">\n",
       "  <thead>\n",
       "    <tr style=\"text-align: right;\">\n",
       "      <th></th>\n",
       "      <th>P1_STATE</th>\n",
       "      <th>LIT101.Pv</th>\n",
       "      <th>FIT101.Pv</th>\n",
       "      <th>MV101.Status</th>\n",
       "      <th>P101.Status</th>\n",
       "      <th>P102.Status</th>\n",
       "      <th>P2_STATE</th>\n",
       "      <th>FIT201.Pv</th>\n",
       "      <th>AIT201.Pv</th>\n",
       "      <th>AIT202.Pv</th>\n",
       "      <th>...</th>\n",
       "      <th>P502.Status</th>\n",
       "      <th>MV501.Status</th>\n",
       "      <th>MV502.Status</th>\n",
       "      <th>MV503.Status</th>\n",
       "      <th>MV504.Status</th>\n",
       "      <th>P6_STATE</th>\n",
       "      <th>FIT601.Pv</th>\n",
       "      <th>P601.Status</th>\n",
       "      <th>P602.Status</th>\n",
       "      <th>P603.Status</th>\n",
       "    </tr>\n",
       "  </thead>\n",
       "  <tbody>\n",
       "    <tr>\n",
       "      <th>count</th>\n",
       "      <td>18000.000000</td>\n",
       "      <td>18000.000000</td>\n",
       "      <td>18000.000000</td>\n",
       "      <td>18000.000000</td>\n",
       "      <td>18000.000000</td>\n",
       "      <td>18000.0</td>\n",
       "      <td>18000.000000</td>\n",
       "      <td>18000.000000</td>\n",
       "      <td>18000.000000</td>\n",
       "      <td>18000.000000</td>\n",
       "      <td>...</td>\n",
       "      <td>18000.0</td>\n",
       "      <td>18000.000000</td>\n",
       "      <td>18000.000000</td>\n",
       "      <td>18000.000000</td>\n",
       "      <td>18000.000000</td>\n",
       "      <td>18000.000000</td>\n",
       "      <td>18000.000000</td>\n",
       "      <td>18000.000000</td>\n",
       "      <td>18000.000000</td>\n",
       "      <td>18000.0</td>\n",
       "    </tr>\n",
       "    <tr>\n",
       "      <th>mean</th>\n",
       "      <td>2.182111</td>\n",
       "      <td>728.636533</td>\n",
       "      <td>0.196376</td>\n",
       "      <td>1.043667</td>\n",
       "      <td>1.393111</td>\n",
       "      <td>1.0</td>\n",
       "      <td>1.977722</td>\n",
       "      <td>0.923192</td>\n",
       "      <td>43.042094</td>\n",
       "      <td>8.168332</td>\n",
       "      <td>...</td>\n",
       "      <td>1.0</td>\n",
       "      <td>1.783667</td>\n",
       "      <td>1.778944</td>\n",
       "      <td>1.017111</td>\n",
       "      <td>1.022056</td>\n",
       "      <td>1.977722</td>\n",
       "      <td>0.009957</td>\n",
       "      <td>1.188556</td>\n",
       "      <td>1.005167</td>\n",
       "      <td>1.0</td>\n",
       "    </tr>\n",
       "    <tr>\n",
       "      <th>std</th>\n",
       "      <td>0.439775</td>\n",
       "      <td>87.223159</td>\n",
       "      <td>0.901751</td>\n",
       "      <td>0.208663</td>\n",
       "      <td>0.488455</td>\n",
       "      <td>0.0</td>\n",
       "      <td>0.147590</td>\n",
       "      <td>1.144597</td>\n",
       "      <td>33.331598</td>\n",
       "      <td>0.858849</td>\n",
       "      <td>...</td>\n",
       "      <td>0.0</td>\n",
       "      <td>0.415516</td>\n",
       "      <td>0.419364</td>\n",
       "      <td>0.152889</td>\n",
       "      <td>0.165374</td>\n",
       "      <td>0.147590</td>\n",
       "      <td>0.124982</td>\n",
       "      <td>0.391166</td>\n",
       "      <td>0.071696</td>\n",
       "      <td>0.0</td>\n",
       "    </tr>\n",
       "    <tr>\n",
       "      <th>min</th>\n",
       "      <td>1.000000</td>\n",
       "      <td>494.074463</td>\n",
       "      <td>0.000000</td>\n",
       "      <td>0.000000</td>\n",
       "      <td>1.000000</td>\n",
       "      <td>1.0</td>\n",
       "      <td>1.000000</td>\n",
       "      <td>0.000000</td>\n",
       "      <td>14.387337</td>\n",
       "      <td>7.133299</td>\n",
       "      <td>...</td>\n",
       "      <td>1.0</td>\n",
       "      <td>0.000000</td>\n",
       "      <td>0.000000</td>\n",
       "      <td>0.000000</td>\n",
       "      <td>0.000000</td>\n",
       "      <td>1.000000</td>\n",
       "      <td>0.000000</td>\n",
       "      <td>1.000000</td>\n",
       "      <td>1.000000</td>\n",
       "      <td>1.0</td>\n",
       "    </tr>\n",
       "    <tr>\n",
       "      <th>25%</th>\n",
       "      <td>2.000000</td>\n",
       "      <td>668.621675</td>\n",
       "      <td>0.000000</td>\n",
       "      <td>1.000000</td>\n",
       "      <td>1.000000</td>\n",
       "      <td>1.0</td>\n",
       "      <td>2.000000</td>\n",
       "      <td>0.000256</td>\n",
       "      <td>18.072288</td>\n",
       "      <td>7.492823</td>\n",
       "      <td>...</td>\n",
       "      <td>1.0</td>\n",
       "      <td>2.000000</td>\n",
       "      <td>2.000000</td>\n",
       "      <td>1.000000</td>\n",
       "      <td>1.000000</td>\n",
       "      <td>2.000000</td>\n",
       "      <td>0.000256</td>\n",
       "      <td>1.000000</td>\n",
       "      <td>1.000000</td>\n",
       "      <td>1.0</td>\n",
       "    </tr>\n",
       "    <tr>\n",
       "      <th>50%</th>\n",
       "      <td>2.000000</td>\n",
       "      <td>748.824900</td>\n",
       "      <td>0.000000</td>\n",
       "      <td>1.000000</td>\n",
       "      <td>1.000000</td>\n",
       "      <td>1.0</td>\n",
       "      <td>2.000000</td>\n",
       "      <td>0.000384</td>\n",
       "      <td>27.653166</td>\n",
       "      <td>7.641022</td>\n",
       "      <td>...</td>\n",
       "      <td>1.0</td>\n",
       "      <td>2.000000</td>\n",
       "      <td>2.000000</td>\n",
       "      <td>1.000000</td>\n",
       "      <td>1.000000</td>\n",
       "      <td>2.000000</td>\n",
       "      <td>0.000256</td>\n",
       "      <td>1.000000</td>\n",
       "      <td>1.000000</td>\n",
       "      <td>1.0</td>\n",
       "    </tr>\n",
       "    <tr>\n",
       "      <th>75%</th>\n",
       "      <td>2.000000</td>\n",
       "      <td>814.808800</td>\n",
       "      <td>0.000000</td>\n",
       "      <td>1.000000</td>\n",
       "      <td>2.000000</td>\n",
       "      <td>1.0</td>\n",
       "      <td>2.000000</td>\n",
       "      <td>2.343511</td>\n",
       "      <td>54.697514</td>\n",
       "      <td>8.858017</td>\n",
       "      <td>...</td>\n",
       "      <td>1.0</td>\n",
       "      <td>2.000000</td>\n",
       "      <td>2.000000</td>\n",
       "      <td>1.000000</td>\n",
       "      <td>1.000000</td>\n",
       "      <td>2.000000</td>\n",
       "      <td>0.000320</td>\n",
       "      <td>1.000000</td>\n",
       "      <td>1.000000</td>\n",
       "      <td>1.0</td>\n",
       "    </tr>\n",
       "    <tr>\n",
       "      <th>max</th>\n",
       "      <td>3.000000</td>\n",
       "      <td>816.967651</td>\n",
       "      <td>4.384588</td>\n",
       "      <td>2.000000</td>\n",
       "      <td>2.000000</td>\n",
       "      <td>1.0</td>\n",
       "      <td>2.000000</td>\n",
       "      <td>2.413097</td>\n",
       "      <td>110.356316</td>\n",
       "      <td>9.695784</td>\n",
       "      <td>...</td>\n",
       "      <td>1.0</td>\n",
       "      <td>2.000000</td>\n",
       "      <td>2.000000</td>\n",
       "      <td>2.000000</td>\n",
       "      <td>2.000000</td>\n",
       "      <td>2.000000</td>\n",
       "      <td>1.805209</td>\n",
       "      <td>2.000000</td>\n",
       "      <td>2.000000</td>\n",
       "      <td>1.0</td>\n",
       "    </tr>\n",
       "  </tbody>\n",
       "</table>\n",
       "<p>8 rows × 66 columns</p>\n",
       "</div>"
      ],
      "text/plain": [
       "           P1_STATE     LIT101.Pv     FIT101.Pv  MV101.Status   P101.Status  \\\n",
       "count  18000.000000  18000.000000  18000.000000  18000.000000  18000.000000   \n",
       "mean       2.182111    728.636533      0.196376      1.043667      1.393111   \n",
       "std        0.439775     87.223159      0.901751      0.208663      0.488455   \n",
       "min        1.000000    494.074463      0.000000      0.000000      1.000000   \n",
       "25%        2.000000    668.621675      0.000000      1.000000      1.000000   \n",
       "50%        2.000000    748.824900      0.000000      1.000000      1.000000   \n",
       "75%        2.000000    814.808800      0.000000      1.000000      2.000000   \n",
       "max        3.000000    816.967651      4.384588      2.000000      2.000000   \n",
       "\n",
       "       P102.Status      P2_STATE     FIT201.Pv     AIT201.Pv     AIT202.Pv  \\\n",
       "count      18000.0  18000.000000  18000.000000  18000.000000  18000.000000   \n",
       "mean           1.0      1.977722      0.923192     43.042094      8.168332   \n",
       "std            0.0      0.147590      1.144597     33.331598      0.858849   \n",
       "min            1.0      1.000000      0.000000     14.387337      7.133299   \n",
       "25%            1.0      2.000000      0.000256     18.072288      7.492823   \n",
       "50%            1.0      2.000000      0.000384     27.653166      7.641022   \n",
       "75%            1.0      2.000000      2.343511     54.697514      8.858017   \n",
       "max            1.0      2.000000      2.413097    110.356316      9.695784   \n",
       "\n",
       "       ...  P502.Status  MV501.Status  MV502.Status  MV503.Status  \\\n",
       "count  ...      18000.0  18000.000000  18000.000000  18000.000000   \n",
       "mean   ...          1.0      1.783667      1.778944      1.017111   \n",
       "std    ...          0.0      0.415516      0.419364      0.152889   \n",
       "min    ...          1.0      0.000000      0.000000      0.000000   \n",
       "25%    ...          1.0      2.000000      2.000000      1.000000   \n",
       "50%    ...          1.0      2.000000      2.000000      1.000000   \n",
       "75%    ...          1.0      2.000000      2.000000      1.000000   \n",
       "max    ...          1.0      2.000000      2.000000      2.000000   \n",
       "\n",
       "       MV504.Status      P6_STATE     FIT601.Pv   P601.Status   P602.Status  \\\n",
       "count  18000.000000  18000.000000  18000.000000  18000.000000  18000.000000   \n",
       "mean       1.022056      1.977722      0.009957      1.188556      1.005167   \n",
       "std        0.165374      0.147590      0.124982      0.391166      0.071696   \n",
       "min        0.000000      1.000000      0.000000      1.000000      1.000000   \n",
       "25%        1.000000      2.000000      0.000256      1.000000      1.000000   \n",
       "50%        1.000000      2.000000      0.000256      1.000000      1.000000   \n",
       "75%        1.000000      2.000000      0.000320      1.000000      1.000000   \n",
       "max        2.000000      2.000000      1.805209      2.000000      2.000000   \n",
       "\n",
       "       P603.Status  \n",
       "count      18000.0  \n",
       "mean           1.0  \n",
       "std            0.0  \n",
       "min            1.0  \n",
       "25%            1.0  \n",
       "50%            1.0  \n",
       "75%            1.0  \n",
       "max            1.0  \n",
       "\n",
       "[8 rows x 66 columns]"
      ]
     },
     "execution_count": 12,
     "metadata": {},
     "output_type": "execute_result"
    }
   ],
   "source": [
    "df.describe()"
   ]
  },
  {
   "cell_type": "code",
   "execution_count": 13,
   "metadata": {},
   "outputs": [
    {
     "data": {
      "text/plain": [
       "t_stamp         0\n",
       "P1_STATE        0\n",
       "LIT101.Pv       0\n",
       "FIT101.Pv       0\n",
       "MV101.Status    0\n",
       "               ..\n",
       "LSL601.Alarm    0\n",
       "LSH602.Alarm    0\n",
       "LSL602.Alarm    0\n",
       "LSH603.Alarm    0\n",
       "LSL603.Alarm    0\n",
       "Length: 82, dtype: int64"
      ]
     },
     "execution_count": 13,
     "metadata": {},
     "output_type": "execute_result"
    }
   ],
   "source": [
    "df.isnull().sum()"
   ]
  },
  {
   "cell_type": "code",
   "execution_count": null,
   "metadata": {},
   "outputs": [
    {
     "data": {
      "text/plain": [
       "Index(['t_stamp', 'P1_STATE', 'LIT101.Pv', 'FIT101.Pv', 'MV101.Status',\n",
       "       'P101.Status', 'P102.Status', 'P2_STATE', 'FIT201.Pv', 'AIT201.Pv',\n",
       "       'AIT202.Pv', 'AIT203.Pv', 'MV201.Status', 'P201.Status', 'P202.Status',\n",
       "       'P203.Status', 'P204.Status', 'P205.Status', 'P206.Status',\n",
       "       'P207.Status', 'P208.Status', 'LS201.Alarm', 'LS202.Alarm',\n",
       "       'LSL203.Alarm', 'LSLL203.Alarm', 'P3_STATE', 'AIT301.Pv', 'AIT302.Pv',\n",
       "       'AIT303.Pv', 'LIT301.Pv', 'FIT301.Pv', 'DPIT301.Pv', 'MV301.Status',\n",
       "       'MV302.Status', 'MV303.Status', 'MV304.Status', 'P301.Status',\n",
       "       'P302.Status', 'PSH301.Alarm', 'DPSH301.Alarm', 'P4_STATE', 'LIT401.Pv',\n",
       "       'FIT401.Pv', 'AIT401.Pv', 'AIT402.Pv', 'P401.Status', 'P402.Status',\n",
       "       'P403.Status', 'P404.Status', 'UV401.Status', 'LS401.Alarm', 'P5_STATE',\n",
       "       'FIT501.Pv', 'FIT502.Pv', 'FIT503.Pv', 'FIT504.Pv', 'AIT501.Pv',\n",
       "       'AIT502.Pv', 'AIT503.Pv', 'AIT504.Pv', 'PIT501.Pv', 'PIT502.Pv',\n",
       "       'PIT503.Pv', 'P501.Status', 'P502.Status', 'MV501.Status',\n",
       "       'MV502.Status', 'MV503.Status', 'MV504.Status', 'PSH501.Alarm',\n",
       "       'PSL501.Alarm', 'P6_STATE', 'FIT601.Pv', 'P601.Status', 'P602.Status',\n",
       "       'P603.Status', 'LSH601.Alarm', 'LSL601.Alarm', 'LSH602.Alarm',\n",
       "       'LSL602.Alarm', 'LSH603.Alarm', 'LSL603.Alarm'],\n",
       "      dtype='object')"
      ]
     },
     "execution_count": 14,
     "metadata": {},
     "output_type": "execute_result"
    }
   ],
   "source": [
    "pd.set_option('display.max_columns', None)\n",
    "df.columns"
   ]
  },
  {
   "cell_type": "markdown",
   "metadata": {},
   "source": [
    "#### Pré-traitement des données"
   ]
  },
  {
   "cell_type": "code",
   "execution_count": null,
   "metadata": {},
   "outputs": [
    {
     "data": {
      "text/plain": [
       "t_stamp         0\n",
       "P1_STATE        0\n",
       "LIT101.Pv       0\n",
       "FIT101.Pv       0\n",
       "MV101.Status    0\n",
       "               ..\n",
       "LSL601.Alarm    0\n",
       "LSH602.Alarm    0\n",
       "LSL602.Alarm    0\n",
       "LSH603.Alarm    0\n",
       "LSL603.Alarm    0\n",
       "Length: 82, dtype: int64"
      ]
     },
     "execution_count": 15,
     "metadata": {},
     "output_type": "execute_result"
    }
   ],
   "source": [
    "df = df.dropna()\n",
    "df.isnull().sum()"
   ]
  },
  {
   "cell_type": "code",
   "execution_count": 16,
   "metadata": {},
   "outputs": [],
   "source": [
    "df = pd.get_dummies(df, drop_first=True)"
   ]
  },
  {
   "cell_type": "code",
   "execution_count": 17,
   "metadata": {},
   "outputs": [],
   "source": [
    "scaler = StandardScaler()\n",
    "df_scaled = scaler.fit_transform(df)"
   ]
  },
  {
   "cell_type": "markdown",
   "metadata": {},
   "source": [
    "#### option 1 : Anomaly Detection"
   ]
  },
  {
   "cell_type": "code",
   "execution_count": 18,
   "metadata": {},
   "outputs": [],
   "source": [
    "model = IsolationForest(contamination=0.01, random_state=42)\n",
    "model.fit(df_scaled)\n",
    "\n",
    "anomalies = model.predict(df_scaled)\n",
    "\n",
    "df['Anomalie'] = anomalies"
   ]
  },
  {
   "cell_type": "code",
   "execution_count": 19,
   "metadata": {},
   "outputs": [],
   "source": [
    "df['Anomalie_Label'] = df['Anomalie'].apply(lambda x: 'Normal' if x == 1 else 'Anomalie')"
   ]
  },
  {
   "cell_type": "code",
   "execution_count": 21,
   "metadata": {},
   "outputs": [
    {
     "data": {
      "image/png": "[encoded data removed]",
      "text/plain": [
       "<Figure size 432x288 with 1 Axes>"
      ]
     },
     "metadata": {
      "needs_background": "light"
     },
     "output_type": "display_data"
    }
   ],
   "source": [
    "sns.countplot(x='Anomalie_Label', data=df)\n",
    "plt.title(\"Distribution des Anomalies et des Points Normaux\")\n",
    "plt.show()"
   ]
  },
  {
   "cell_type": "markdown",
   "metadata": {},
   "source": [
    "#### Some examples of easily separable data"
   ]
  },
  {
   "cell_type": "code",
   "execution_count": 23,
   "metadata": {},
   "outputs": [
    {
     "data": {
      "image/png": "[encoded data removed]",
      "text/plain": [
       "<Figure size 864x432 with 1 Axes>"
      ]
     },
     "metadata": {
      "needs_background": "light"
     },
     "output_type": "display_data"
    }
   ],
   "source": [
    "plt.figure(figsize=(12, 6))\n",
    "sns.boxplot(x='Anomalie_Label', y='AIT201.Pv', data=df)\n",
    "plt.title(\"Valeurs de AIT201.Pv par Type (Normales vs Anomalies)\")\n",
    "plt.show()"
   ]
  },
  {
   "cell_type": "markdown",
   "metadata": {},
   "source": [
    "From this we can deduce that if this variable is different from 60, then it is not an anomoly"
   ]
  },
  {
   "cell_type": "code",
   "execution_count": 37,
   "metadata": {},
   "outputs": [
    {
     "data": {
      "image/png": "[encoded data removed]",
      "text/plain": [
       "<Figure size 864x432 with 1 Axes>"
      ]
     },
     "metadata": {
      "needs_background": "light"
     },
     "output_type": "display_data"
    }
   ],
   "source": [
    "plt.figure(figsize=(12, 6))\n",
    "sns.boxplot(x='Anomalie_Label', y='FIT201.Pv', data=df)\n",
    "plt.title(\"Valeurs de FIT201.Pv par Type (Normales vs Anomalies)\")\n",
    "plt.show()"
   ]
  },
  {
   "cell_type": "markdown",
   "metadata": {},
   "source": [
    "From this, we can deduce that if this variable is superior than 0, then it is not an anomaly."
   ]
  },
  {
   "cell_type": "code",
   "execution_count": 26,
   "metadata": {},
   "outputs": [],
   "source": [
    "pca = PCA(n_components=2)\n",
    "reduced_data = pca.fit_transform(df_scaled)\n",
    "\n",
    "df['PCA1'] = reduced_data[:, 0]\n",
    "df['PCA2'] = reduced_data[:, 1]"
   ]
  },
  {
   "cell_type": "code",
   "execution_count": 27,
   "metadata": {},
   "outputs": [
    {
     "data": {
      "image/png": "[encoded data removed]",
      "text/plain": [
       "<Figure size 864x432 with 1 Axes>"
      ]
     },
     "metadata": {
      "needs_background": "light"
     },
     "output_type": "display_data"
    }
   ],
   "source": [
    "plt.figure(figsize=(12, 6))\n",
    "sns.scatterplot(x='PCA1', y='PCA2', hue='Anomalie_Label', palette='bright', data=df)\n",
    "plt.title(\"Projection 2D des Anomalies et Points Normaux\")\n",
    "plt.show()"
   ]
  },
  {
   "cell_type": "markdown",
   "metadata": {},
   "source": [
    "PCA works pretty well, isolated data is easily separable"
   ]
  },
  {
   "cell_type": "markdown",
   "metadata": {},
   "source": [
    "#### option 2 : Adversarial attacks against classification"
   ]
  },
  {
   "cell_type": "code",
   "execution_count": null,
   "metadata": {},
   "outputs": [
    {
     "name": "stdout",
     "output_type": "stream",
     "text": [
      "0.9987037037037036\n"
     ]
    }
   ],
   "source": [
    "X = df.drop(columns=['Anomalie_Label'])\n",
    "y = df['Anomalie_Label']\n",
    "\n",
    "X_train, X_test, y_train, y_test = train_test_split(X, y, test_size=0.3, random_state=42)\n",
    "\n",
    "clf = RandomForestClassifier(random_state=42)\n",
    "clf.fit(X_train, y_train)\n",
    "\n",
    "print(clf.score(X_test, y_test))"
   ]
  },
  {
   "cell_type": "code",
   "execution_count": 36,
   "metadata": {},
   "outputs": [
    {
     "name": "stdout",
     "output_type": "stream",
     "text": [
      "              precision    recall  f1-score   support\n",
      "\n",
      "    Anomalie       0.94      0.92      0.93        50\n",
      "      Normal       1.00      1.00      1.00      5350\n",
      "\n",
      "    accuracy                           1.00      5400\n",
      "   macro avg       0.97      0.96      0.96      5400\n",
      "weighted avg       1.00      1.00      1.00      5400\n",
      "\n"
     ]
    }
   ],
   "source": [
    "y_pred = clf.predict(X_test)\n",
    "print(classification_report(y_test, y_pred))"
   ]
  },
  {
   "cell_type": "code",
   "execution_count": null,
   "metadata": {},
   "outputs": [
    {
     "data": {
      "image/png": "[encoded data removed]",
      "text/plain": [
       "<Figure size 720x504 with 2 Axes>"
      ]
     },
     "metadata": {
      "needs_background": "light"
     },
     "output_type": "display_data"
    }
   ],
   "source": [
    "plt.figure(figsize=(10, 7))\n",
    "cm = confusion_matrix(y_test, y_pred)\n",
    "sns.heatmap(cm, annot=True, fmt='d')\n",
    "plt.xlabel('Predicted')\n",
    "plt.ylabel('Truth')\n",
    "plt.title('Confusion Matrix')\n",
    "plt.show()"
   ]
  }
 ],
 "metadata": {
  "kernelspec": {
   "display_name": "Python 3",
   "language": "python",
   "name": "python3"
  },
  "language_info": {
   "codemirror_mode": {
    "name": "ipython",
    "version": 3
   },
   "file_extension": ".py",
   "mimetype": "text/x-python",
   "name": "python",
   "nbconvert_exporter": "python",
   "pygments_lexer": "ipython3",
   "version": "3.10.12"
  }
 },
 "nbformat": 4,
 "nbformat_minor": 2
}
