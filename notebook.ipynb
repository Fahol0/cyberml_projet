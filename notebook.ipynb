{
 "cells": [
  {
   "cell_type": "markdown",
   "metadata": {},
   "source": [
    "# CYBERML - Project"
   ]
  },
  {
   "cell_type": "markdown",
   "metadata": {},
   "source": [
    "## Importation du dataset"
   ]
  },
  {
   "cell_type": "code",
   "execution_count": 1,
   "metadata": {},
   "outputs": [],
   "source": [
    "import pandas as pd\n",
    "from sklearn.preprocessing import StandardScaler\n",
    "from sklearn.ensemble import IsolationForest\n",
    "from sklearn.svm import OneClassSVM\n",
    "from sklearn.metrics import confusion_matrix, classification_report\n",
    "from sklearn.model_selection import train_test_split\n",
    "from sklearn.ensemble import RandomForestClassifier\n",
    "import matplotlib.pyplot as plt\n",
    "from sklearn.decomposition import PCA\n",
    "import seaborn as sns\n",
    "import numpy as np"
   ]
  },
  {
   "cell_type": "code",
   "execution_count": 682,
   "metadata": {},
   "outputs": [],
   "source": [
    "# file1_path = \"../SWaT.A7_June 2020/22June2020 (1).xlsx\"\n",
    "# file2_path = \"../SWaT.A7_June 2020/22June2020 (2).xlsx\"\n",
    "# file3_path = \"../SWaT.A7_June 2020/29June2020 (1).xlsx\"\n",
    "# file4_path = \"../SWaT.A7_June 2020/29June2020 (2).xlsx\"\n",
    "\n",
    "# df1 = pd.read_excel(file1_path)\n",
    "# df2 = pd.read_excel(file2_path)\n",
    "# df3 = pd.read_excel(file3_path, usecols=range(61))\n",
    "# df4 = pd.read_excel(file4_path)\n",
    "# print(df1.shape)\n",
    "# print(df2.shape)\n",
    "# print(df3.shape)\n",
    "# print(df4.shape)"
   ]
  },
  {
   "cell_type": "code",
   "execution_count": 683,
   "metadata": {},
   "outputs": [],
   "source": [
    "# print(df1.columns.to_list())\n",
    "# print(df2.columns.to_list())\n",
    "# print(df3.columns.to_list())\n",
    "# print(df4.columns.to_list())"
   ]
  },
  {
   "cell_type": "code",
   "execution_count": 684,
   "metadata": {},
   "outputs": [],
   "source": [
    "# common_columns = list(set(df1.columns) & set(df2.columns) & set(df3.columns) & set(df4.columns))\n",
    "# # columns in df1 but not in common_columns\n",
    "# missing_columns = list(set(df1.columns) - set(common_columns))\n",
    "# print(missing_columns)\n",
    "# print(len(missing_columns))\n",
    "# print(len(common_columns))\n",
    "\n",
    "# print(f\"Missing columns : {list(set(df1.columns) ^ set(df2.columns) ^ set(df3.columns) ^ set(df4.columns))}\")"
   ]
  },
  {
   "cell_type": "code",
   "execution_count": 685,
   "metadata": {},
   "outputs": [],
   "source": [
    "# df1 = df1[common_columns]\n",
    "# df2 = df2[common_columns]\n",
    "# df3 = df3[common_columns]\n",
    "# df4 = df4[common_columns]\n",
    "# print(df1.columns.to_list())\n",
    "# print(df2.columns.to_list())\n",
    "# print(df3.columns.to_list())\n",
    "# print(df4.columns.to_list())"
   ]
  },
  {
   "cell_type": "code",
   "execution_count": 686,
   "metadata": {},
   "outputs": [],
   "source": [
    "# if list(df1.columns) != list(df2.columns) or list(df1.columns) != list(df3.columns) or list(df1.columns) != list(df4.columns):\n",
    "#     print(\"Les colonnes des deux fichiers ne correspondent pas.\")\n",
    "#     print(\"Colonnes dans le fichier 1 :\", df1.columns)\n",
    "#     print(\"Colonnes dans le fichier 2 :\", df2.columns)\n",
    "#     print(\"Colonnes dans le fichier 3 :\", df3.columns)\n",
    "#     print(\"Colonnes dans le fichier 4 :\", df4.columns)\n",
    "# else:\n",
    "#     print(\"Les colonnes des deux fichiers correspondent.\")\n",
    "#     df_combined = pd.concat([df1, df2, df3, df4], axis=0, ignore_index=True)\n",
    "\n",
    "#     # Vérifier le nombre de lignes et de colonnes du dataset combiné\n",
    "#     print(f\"Dataset combiné : {df_combined.shape} lignes et colonnes\")\n",
    "\n",
    "#     # Sauvegarder le dataset combiné dans un fichier CSV\n",
    "#     output_path = \"../SWaT.A7_June 2020/df_combined.csv\"\n",
    "#     df_combined.to_csv(output_path, index=False)\n",
    "\n",
    "#     print(f\"Dataset fusionné sauvegardé dans : {output_path}\")"
   ]
  },
  {
   "cell_type": "code",
   "execution_count": 2,
   "metadata": {},
   "outputs": [],
   "source": [
    "df = pd.read_csv(\"../SWaT.A7_June 2020/df_combined.csv\", low_memory=False)"
   ]
  },
  {
   "cell_type": "code",
   "execution_count": null,
   "metadata": {},
   "outputs": [],
   "source": [
    "df.shape"
   ]
  },
  {
   "cell_type": "code",
   "execution_count": null,
   "metadata": {},
   "outputs": [],
   "source": [
    "df.tail()"
   ]
  },
  {
   "cell_type": "code",
   "execution_count": 5,
   "metadata": {},
   "outputs": [],
   "source": [
    "df = df.drop(df.tail(1).index)"
   ]
  },
  {
   "cell_type": "code",
   "execution_count": null,
   "metadata": {},
   "outputs": [],
   "source": [
    "df.info()"
   ]
  },
  {
   "cell_type": "code",
   "execution_count": null,
   "metadata": {},
   "outputs": [],
   "source": [
    "df.describe()"
   ]
  },
  {
   "cell_type": "code",
   "execution_count": null,
   "metadata": {},
   "outputs": [],
   "source": [
    "df.isnull().sum()"
   ]
  },
  {
   "cell_type": "code",
   "execution_count": null,
   "metadata": {},
   "outputs": [],
   "source": [
    "pd.set_option('display.max_columns', None)\n",
    "df.columns"
   ]
  },
  {
   "cell_type": "code",
   "execution_count": 10,
   "metadata": {},
   "outputs": [],
   "source": [
    "cols_numeric = cols_to_convert = df.columns.difference(['t_stamp'])\n",
    "df[cols_numeric] = df[cols_numeric].apply(pd.to_numeric, errors='coerce')"
   ]
  },
  {
   "cell_type": "code",
   "execution_count": null,
   "metadata": {},
   "outputs": [],
   "source": [
    "df.describe()"
   ]
  },
  {
   "cell_type": "code",
   "execution_count": null,
   "metadata": {},
   "outputs": [],
   "source": [
    "df.dtypes"
   ]
  },
  {
   "cell_type": "markdown",
   "metadata": {},
   "source": [
    "### Pré-traitement des données"
   ]
  },
  {
   "cell_type": "code",
   "execution_count": null,
   "metadata": {},
   "outputs": [],
   "source": [
    "df = df.dropna()\n",
    "df.isnull().sum()"
   ]
  },
  {
   "cell_type": "code",
   "execution_count": null,
   "metadata": {},
   "outputs": [],
   "source": [
    "columns_to_encode = [column for column in df.columns if df[column].nunique() < 20]\n",
    "print(columns_to_encode)\n",
    "print(len(columns_to_encode))"
   ]
  },
  {
   "cell_type": "code",
   "execution_count": 15,
   "metadata": {},
   "outputs": [],
   "source": [
    "df = pd.get_dummies(df, drop_first=True, columns=columns_to_encode)"
   ]
  },
  {
   "cell_type": "code",
   "execution_count": null,
   "metadata": {},
   "outputs": [],
   "source": [
    "df['t_stamp'] = pd.to_datetime(df['t_stamp'], format='mixed')\n",
    "df_22 = df[df['t_stamp'].dt.day == 22].copy()\n",
    "df_29 = df[df['t_stamp'].dt.day == 29].copy()\n",
    "start_time_29 = df_29['t_stamp'].min()\n",
    "end_time_29 = df_29['t_stamp'].max()\n",
    "start_time_22 = df_22['t_stamp'].min()\n",
    "end_time_22 = df_22['t_stamp'].max()\n",
    "print(f\"22nd of June started at : {start_time_22} and ended at : {end_time_22}\")\n",
    "print(f\"29th of June started at : {start_time_29} and ended at : {end_time_29}\")"
   ]
  },
  {
   "cell_type": "code",
   "execution_count": 17,
   "metadata": {},
   "outputs": [],
   "source": [
    "df_22.set_index('t_stamp', inplace=True)\n",
    "df_29.set_index('t_stamp', inplace=True)"
   ]
  },
  {
   "cell_type": "code",
   "execution_count": null,
   "metadata": {},
   "outputs": [],
   "source": [
    "scaler = StandardScaler()\n",
    "df_22_scaled = scaler.fit_transform(df_22)\n",
    "df_22_scaled = pd.DataFrame(df_22_scaled, columns=df_22.columns)\n",
    "df_29_scaled = scaler.fit_transform(df_29)\n",
    "df_29_scaled = pd.DataFrame(df_29_scaled, columns=df_29.columns)\n",
    "df_scaled = pd.concat([df_22_scaled, df_29_scaled], axis=0)\n",
    "df_scaled.head()"
   ]
  },
  {
   "cell_type": "markdown",
   "metadata": {},
   "source": [
    "## Option 1 : Anomaly Detection"
   ]
  },
  {
   "cell_type": "markdown",
   "metadata": {},
   "source": [
    "### Isolation Forest"
   ]
  },
  {
   "cell_type": "code",
   "execution_count": null,
   "metadata": {},
   "outputs": [],
   "source": [
    "contamination = 0.02\n",
    "duration = end_time_29 - start_time_29\n",
    "print(f\"We expect to be attacked for a duration of about {(contamination * duration).seconds} seconds\")\n",
    "\n",
    "model = IsolationForest(n_estimators=100, contamination=contamination, random_state=42)\n",
    "\n",
    "model.fit(df_22_scaled)\n",
    "df_29.loc[:, \"Anomalie\"] = model.predict(df_29_scaled)\n",
    "df_22.loc[:, \"Anomalie\"] = 1\n",
    "\n",
    "df_if = pd.concat([df_22, df_29], axis=0)\n",
    "df_if.head()"
   ]
  },
  {
   "cell_type": "code",
   "execution_count": null,
   "metadata": {},
   "outputs": [],
   "source": [
    "df_if['Anomalie_Label'] = df_if['Anomalie'].apply(lambda x: 'Normal' if x == 1 else 'Anomalie')\n",
    "df_if['Anomalie_Label'].value_counts()"
   ]
  },
  {
   "cell_type": "code",
   "execution_count": null,
   "metadata": {},
   "outputs": [],
   "source": [
    "sns.countplot(x='Anomalie_Label', data=df_if)\n",
    "plt.title(\"Distribution des Anomalies et des Points Normaux\")\n",
    "plt.show()"
   ]
  },
  {
   "cell_type": "markdown",
   "metadata": {},
   "source": [
    "#### Some examples of easily separable data"
   ]
  },
  {
   "cell_type": "code",
   "execution_count": null,
   "metadata": {},
   "outputs": [],
   "source": [
    "plt.figure(figsize=(12, 6))\n",
    "sns.boxplot(x='Anomalie_Label', y='AIT201.Pv', data=df_if)\n",
    "plt.title(\"Valeurs de AIT201.Pv par Type (Normales vs Anomalies)\")\n",
    "plt.show()"
   ]
  },
  {
   "cell_type": "code",
   "execution_count": null,
   "metadata": {},
   "outputs": [],
   "source": [
    "plt.figure(figsize=(12, 6))\n",
    "sns.boxplot(x='Anomalie_Label', y='FIT201.Pv', data=df_if)\n",
    "plt.title(\"Valeurs de FIT201.Pv par Type (Normales vs Anomalies)\")\n",
    "plt.show()"
   ]
  },
  {
   "cell_type": "code",
   "execution_count": 709,
   "metadata": {},
   "outputs": [],
   "source": [
    "pca = PCA(n_components=2)\n",
    "reduced_data = pca.fit_transform(df_scaled)\n",
    "\n",
    "df_if['PCA1'] = reduced_data[:, 0]\n",
    "df_if['PCA2'] = reduced_data[:, 1]"
   ]
  },
  {
   "cell_type": "code",
   "execution_count": null,
   "metadata": {},
   "outputs": [],
   "source": [
    "plt.figure(figsize=(12, 6))\n",
    "sns.scatterplot(x='PCA1', y='PCA2', hue='Anomalie_Label', palette='bright', data=df_if)\n",
    "plt.title(\"Projection 2D des Anomalies et Points Normaux\")\n",
    "plt.show()"
   ]
  },
  {
   "cell_type": "markdown",
   "metadata": {},
   "source": [
    "### One Class SVM"
   ]
  },
  {
   "cell_type": "code",
   "execution_count": null,
   "metadata": {},
   "outputs": [],
   "source": [
    "svm = OneClassSVM(nu=0.02, kernel='rbf', gamma=0.001)\n",
    "svm.fit(df_22_scaled)\n",
    "df_29.loc[:, \"Anomalie\"] = svm.predict(df_29_scaled)\n",
    "df_22.loc[:, \"Anomalie\"] = 1\n",
    "\n",
    "df_svm = pd.concat([df_22, df_29], axis=0)\n",
    "df_svm['Anomalie_Label'] = df_svm['Anomalie'].apply(lambda x: 'Normal' if x == 1 else 'Anomalie')\n",
    "df_svm['Anomalie_Label'].value_counts()"
   ]
  },
  {
   "cell_type": "code",
   "execution_count": null,
   "metadata": {},
   "outputs": [],
   "source": [
    "df_svm['PCA1'] = reduced_data[:, 0]\n",
    "df_svm['PCA2'] = reduced_data[:, 1]\n",
    "\n",
    "plt.figure(figsize=(12, 6))\n",
    "sns.scatterplot(x='PCA1', y='PCA2', hue='Anomalie_Label', palette='bright', data=df_svm)\n",
    "plt.title(\"Projection 2D des Anomalies et Points Normaux (SVM)\")\n",
    "plt.show()"
   ]
  },
  {
   "cell_type": "markdown",
   "metadata": {},
   "source": [
    "## Option 2 : Adversarial attacks against classification"
   ]
  },
  {
   "cell_type": "markdown",
   "metadata": {},
   "source": [
    "### Random Forest"
   ]
  },
  {
   "cell_type": "code",
   "execution_count": null,
   "metadata": {},
   "outputs": [],
   "source": [
    "import tensorflow as tf\n",
    "from tensorflow.keras.models import Sequential\n",
    "from tensorflow.keras.layers import Dense"
   ]
  },
  {
   "cell_type": "code",
   "execution_count": null,
   "metadata": {},
   "outputs": [],
   "source": [
    "X = df_if.drop(columns=['Anomalie'])\n",
    "y = df_if['Anomalie']\n",
    "\n",
    "X_train, X_test, y_train, y_test = train_test_split(X, y, test_size=0.3, random_state=42)\n",
    "\n",
    "clf = RandomForestClassifier(random_state=42)\n",
    "clf.fit(X_train, y_train)\n",
    "\n",
    "print(clf.score(X_test, y_test))"
   ]
  },
  {
   "cell_type": "code",
   "execution_count": null,
   "metadata": {},
   "outputs": [],
   "source": [
    "y_pred = clf.predict(X_test)\n",
    "print(classification_report(y_test, y_pred))"
   ]
  },
  {
   "cell_type": "code",
   "execution_count": null,
   "metadata": {},
   "outputs": [],
   "source": [
    "cm = confusion_matrix(y_test, y_pred)\n",
    "cp = cm / cm.sum(axis=1)[:, np.newaxis] # Confusion Matrix Percentage\n",
    "plt.figure(figsize=(10, 7))\n",
    "sns.heatmap(cp, annot=cm, fmt='d')\n",
    "plt.xlabel('Predicted')\n",
    "plt.ylabel('Truth')\n",
    "plt.title('Confusion Matrix')\n",
    "plt.show()"
   ]
  },
  {
   "cell_type": "code",
   "execution_count": null,
   "metadata": {},
   "outputs": [],
   "source": [
    "from art.attacks.evasion import BoundaryAttack\n",
    "from art.estimators.classification import SklearnClassifier\n",
    "\n",
    "art_model = SklearnClassifier(model=clf)\n",
    "\n",
    "boundary_attack = BoundaryAttack(estimator=art_model, targeted=False)\n",
    "\n",
    "X_test_adv = boundary_attack.generate(X_test)\n",
    "\n",
    "y_pred_adv = clf.predict(X_test_adv)\n",
    "print(\"Rapport après attaque adversariale :\")\n",
    "print(classification_report(y_test, y_pred_adv))"
   ]
  },
  {
   "cell_type": "markdown",
   "metadata": {},
   "source": [
    "### One Class SVM Anomalies"
   ]
  },
  {
   "cell_type": "code",
   "execution_count": null,
   "metadata": {},
   "outputs": [],
   "source": [
    "X = df_svm.drop(columns=['Anomalie_Label'])\n",
    "y = df_svm['Anomalie_Label']\n",
    "\n",
    "X_train, X_test, y_train, y_test = train_test_split(X, y, test_size=0.3, random_state=42)\n",
    "\n",
    "clf = RandomForestClassifier(random_state=42)\n",
    "clf.fit(X_train, y_train)\n",
    "\n",
    "print(clf.score(X_test, y_test))"
   ]
  },
  {
   "cell_type": "code",
   "execution_count": null,
   "metadata": {},
   "outputs": [],
   "source": [
    "y_pred = clf.predict(X_test)\n",
    "print(classification_report(y_test, y_pred))"
   ]
  },
  {
   "cell_type": "code",
   "execution_count": null,
   "metadata": {},
   "outputs": [],
   "source": [
    "cm = confusion_matrix(y_test, y_pred)\n",
    "cp = cm / cm.sum(axis=1)[:, np.newaxis]\n",
    "plt.figure(figsize=(10, 7))\n",
    "sns.heatmap(cp, annot=cm, fmt='d')\n",
    "plt.xlabel('Predicted')\n",
    "plt.ylabel('Truth')\n",
    "plt.title('Confusion Matrix')\n",
    "plt.show()"
   ]
  }
 ],
 "metadata": {
  "kernelspec": {
   "display_name": "Python 3",
   "language": "python",
   "name": "python3"
  },
  "language_info": {
   "codemirror_mode": {
    "name": "ipython",
    "version": 3
   },
   "file_extension": ".py",
   "mimetype": "text/x-python",
   "name": "python",
   "nbconvert_exporter": "python",
   "pygments_lexer": "ipython3",
   "version": "3.10.12"
  }
 },
 "nbformat": 4,
 "nbformat_minor": 2
}
